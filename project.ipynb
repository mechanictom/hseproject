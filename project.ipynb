{
 "cells": [
  {
   "cell_type": "code",
   "execution_count": 436,
   "id": "b1646d51",
   "metadata": {},
   "outputs": [],
   "source": [
    "import pandas as pd\n",
    "import matplotlib.pyplot as plt\n",
    "import numpy as np"
   ]
  },
  {
   "cell_type": "markdown",
   "id": "b208d706",
   "metadata": {},
   "source": [
    "# Загрузка и подготовка данных"
   ]
  },
  {
   "cell_type": "markdown",
   "id": "586d12a5",
   "metadata": {},
   "source": [
    "Загружаем данные Росстата по предоставленным в задании ссылкам.\n",
    "\n",
    "* [Зарплаты](https://rosstat.gov.ru/labor_market_employment_salaries)\n",
    "* [Инфляция](https://уровень-инфляции.рф/%D1%82%D0%B0%D0%B1%D0%BB%D0%B8%D1%86%D1%8B-%D0%B8%D0%BD%D1%84%D0%BB%D1%8F%D1%86%D0%B8%D0%B8)\n",
    "\n",
    "Также дополнительно подгрузим цену барреля нефти сорта Brent и курс доллара:\n",
    "* [USD/RUB](https://investfunds.ru/indexes/39/)\n",
    "* [BRENT](https://investfunds.ru/indexes/624/)\n",
    "\n",
    "Приведем данные в единый удобный для работы формат\n"
   ]
  },
  {
   "cell_type": "code",
   "execution_count": 437,
   "id": "60ca57a1",
   "metadata": {},
   "outputs": [],
   "source": [
    "salaries0 = pd.read_excel(\n",
    "    'zpl by field.xlsx',\n",
    "    sheet_name='с 2017 г.',\n",
    "    skiprows=4,\n",
    "    index_col=0\n",
    "    )\n",
    "salaries1 = pd.read_excel(\n",
    "    'zpl by field.xlsx',\n",
    "    sheet_name='2000-2016 гг.',\n",
    "    skiprows=2,\n",
    "    index_col=0\n",
    "    )"
   ]
  },
  {
   "cell_type": "code",
   "execution_count": 438,
   "id": "481da1ab",
   "metadata": {},
   "outputs": [],
   "source": [
    "inflation = pd.read_excel('inflation.xlsx')\n",
    "brent = pd.read_excel('brent.xlsx')\n",
    "usdrub = pd.read_excel('usdrub.xlsx')"
   ]
  },
  {
   "cell_type": "code",
   "execution_count": 439,
   "id": "b02115f9",
   "metadata": {},
   "outputs": [],
   "source": [
    "inflation = inflation[['Год', 'Всего']]\n",
    "inflation = inflation.set_index('Год')"
   ]
  },
  {
   "cell_type": "code",
   "execution_count": 440,
   "id": "1a25d458",
   "metadata": {
    "scrolled": true
   },
   "outputs": [
    {
     "data": {
      "text/html": [
       "<div>\n",
       "<style scoped>\n",
       "    .dataframe tbody tr th:only-of-type {\n",
       "        vertical-align: middle;\n",
       "    }\n",
       "\n",
       "    .dataframe tbody tr th {\n",
       "        vertical-align: top;\n",
       "    }\n",
       "\n",
       "    .dataframe thead th {\n",
       "        text-align: right;\n",
       "    }\n",
       "</style>\n",
       "<table border=\"1\" class=\"dataframe\">\n",
       "  <thead>\n",
       "    <tr style=\"text-align: right;\">\n",
       "      <th></th>\n",
       "      <th>2000</th>\n",
       "      <th>2001</th>\n",
       "      <th>2002</th>\n",
       "      <th>2003</th>\n",
       "      <th>2004</th>\n",
       "      <th>2005</th>\n",
       "      <th>2006</th>\n",
       "      <th>2007</th>\n",
       "      <th>2008</th>\n",
       "      <th>2009</th>\n",
       "      <th>2010</th>\n",
       "      <th>2011</th>\n",
       "      <th>2012</th>\n",
       "      <th>2013</th>\n",
       "      <th>2014</th>\n",
       "      <th>2015</th>\n",
       "      <th>2016</th>\n",
       "    </tr>\n",
       "  </thead>\n",
       "  <tbody>\n",
       "    <tr>\n",
       "      <th>Всего по  экономике</th>\n",
       "      <td>2223.4</td>\n",
       "      <td>3240.4</td>\n",
       "      <td>4360.3</td>\n",
       "      <td>5498.5</td>\n",
       "      <td>6739.5</td>\n",
       "      <td>8554.9</td>\n",
       "      <td>10633.9</td>\n",
       "      <td>13593.4</td>\n",
       "      <td>17290.1</td>\n",
       "      <td>18637.5</td>\n",
       "      <td>20952.2</td>\n",
       "      <td>23369.2</td>\n",
       "      <td>26628.9</td>\n",
       "      <td>29792.0</td>\n",
       "      <td>32495.0</td>\n",
       "      <td>34030.0</td>\n",
       "      <td>36709.0</td>\n",
       "    </tr>\n",
       "    <tr>\n",
       "      <th>Сельское хозяйство, охота и лесное хозяйство</th>\n",
       "      <td>985.1</td>\n",
       "      <td>1434.6</td>\n",
       "      <td>1876.4</td>\n",
       "      <td>2339.8</td>\n",
       "      <td>3015.4</td>\n",
       "      <td>3646.2</td>\n",
       "      <td>4568.7</td>\n",
       "      <td>6143.8</td>\n",
       "      <td>8474.8</td>\n",
       "      <td>9619.2</td>\n",
       "      <td>10668.1</td>\n",
       "      <td>12464.0</td>\n",
       "      <td>14129.4</td>\n",
       "      <td>15724.0</td>\n",
       "      <td>17724.0</td>\n",
       "      <td>19721.0</td>\n",
       "      <td>21755.0</td>\n",
       "    </tr>\n",
       "    <tr>\n",
       "      <th>Рыболовство, рыбоводство</th>\n",
       "      <td>2845.6</td>\n",
       "      <td>3839.3</td>\n",
       "      <td>5031.3</td>\n",
       "      <td>5444.5</td>\n",
       "      <td>7084.9</td>\n",
       "      <td>10233.5</td>\n",
       "      <td>12310.8</td>\n",
       "      <td>14797.0</td>\n",
       "      <td>19498.9</td>\n",
       "      <td>22913.5</td>\n",
       "      <td>23781.9</td>\n",
       "      <td>25939.9</td>\n",
       "      <td>29201.4</td>\n",
       "      <td>32437.3</td>\n",
       "      <td>37062.0</td>\n",
       "      <td>46676.0</td>\n",
       "      <td>54927.0</td>\n",
       "    </tr>\n",
       "    <tr>\n",
       "      <th>Добыча полезных ископаемых</th>\n",
       "      <td>5940.2</td>\n",
       "      <td>9099.2</td>\n",
       "      <td>11080.9</td>\n",
       "      <td>13912.4</td>\n",
       "      <td>16841.7</td>\n",
       "      <td>19726.9</td>\n",
       "      <td>23145.2</td>\n",
       "      <td>28107.5</td>\n",
       "      <td>33206.1</td>\n",
       "      <td>35363.4</td>\n",
       "      <td>39895.0</td>\n",
       "      <td>45132.0</td>\n",
       "      <td>50400.6</td>\n",
       "      <td>54161.2</td>\n",
       "      <td>58959.0</td>\n",
       "      <td>63695.0</td>\n",
       "      <td>69936.0</td>\n",
       "    </tr>\n",
       "    <tr>\n",
       "      <th>из нее:</th>\n",
       "      <td>NaN</td>\n",
       "      <td>NaN</td>\n",
       "      <td>NaN</td>\n",
       "      <td>NaN</td>\n",
       "      <td>NaN</td>\n",
       "      <td>NaN</td>\n",
       "      <td>NaN</td>\n",
       "      <td>NaN</td>\n",
       "      <td>NaN</td>\n",
       "      <td>NaN</td>\n",
       "      <td>NaN</td>\n",
       "      <td>NaN</td>\n",
       "      <td>NaN</td>\n",
       "      <td>NaN</td>\n",
       "      <td>NaN</td>\n",
       "      <td>NaN</td>\n",
       "      <td>NaN</td>\n",
       "    </tr>\n",
       "  </tbody>\n",
       "</table>\n",
       "</div>"
      ],
      "text/plain": [
       "                                                2000    2001     2002  \\\n",
       "Всего по  экономике                           2223.4  3240.4   4360.3   \n",
       "Сельское хозяйство, охота и лесное хозяйство   985.1  1434.6   1876.4   \n",
       "Рыболовство, рыбоводство                      2845.6  3839.3   5031.3   \n",
       "Добыча полезных ископаемых                    5940.2  9099.2  11080.9   \n",
       "      из нее:                                    NaN     NaN      NaN   \n",
       "\n",
       "                                                 2003     2004     2005  \\\n",
       "Всего по  экономике                            5498.5   6739.5   8554.9   \n",
       "Сельское хозяйство, охота и лесное хозяйство   2339.8   3015.4   3646.2   \n",
       "Рыболовство, рыбоводство                       5444.5   7084.9  10233.5   \n",
       "Добыча полезных ископаемых                    13912.4  16841.7  19726.9   \n",
       "      из нее:                                     NaN      NaN      NaN   \n",
       "\n",
       "                                                 2006     2007     2008  \\\n",
       "Всего по  экономике                           10633.9  13593.4  17290.1   \n",
       "Сельское хозяйство, охота и лесное хозяйство   4568.7   6143.8   8474.8   \n",
       "Рыболовство, рыбоводство                      12310.8  14797.0  19498.9   \n",
       "Добыча полезных ископаемых                    23145.2  28107.5  33206.1   \n",
       "      из нее:                                     NaN      NaN      NaN   \n",
       "\n",
       "                                                 2009     2010     2011  \\\n",
       "Всего по  экономике                           18637.5  20952.2  23369.2   \n",
       "Сельское хозяйство, охота и лесное хозяйство   9619.2  10668.1  12464.0   \n",
       "Рыболовство, рыбоводство                      22913.5  23781.9  25939.9   \n",
       "Добыча полезных ископаемых                    35363.4  39895.0  45132.0   \n",
       "      из нее:                                     NaN      NaN      NaN   \n",
       "\n",
       "                                                 2012     2013     2014  \\\n",
       "Всего по  экономике                           26628.9  29792.0  32495.0   \n",
       "Сельское хозяйство, охота и лесное хозяйство  14129.4  15724.0  17724.0   \n",
       "Рыболовство, рыбоводство                      29201.4  32437.3  37062.0   \n",
       "Добыча полезных ископаемых                    50400.6  54161.2  58959.0   \n",
       "      из нее:                                     NaN      NaN      NaN   \n",
       "\n",
       "                                                 2015     2016  \n",
       "Всего по  экономике                           34030.0  36709.0  \n",
       "Сельское хозяйство, охота и лесное хозяйство  19721.0  21755.0  \n",
       "Рыболовство, рыбоводство                      46676.0  54927.0  \n",
       "Добыча полезных ископаемых                    63695.0  69936.0  \n",
       "      из нее:                                     NaN      NaN  "
      ]
     },
     "execution_count": 440,
     "metadata": {},
     "output_type": "execute_result"
    }
   ],
   "source": [
    "salaries1.head(5)"
   ]
  },
  {
   "cell_type": "code",
   "execution_count": 441,
   "id": "f996e1bd",
   "metadata": {},
   "outputs": [
    {
     "data": {
      "text/html": [
       "<div>\n",
       "<style scoped>\n",
       "    .dataframe tbody tr th:only-of-type {\n",
       "        vertical-align: middle;\n",
       "    }\n",
       "\n",
       "    .dataframe tbody tr th {\n",
       "        vertical-align: top;\n",
       "    }\n",
       "\n",
       "    .dataframe thead th {\n",
       "        text-align: right;\n",
       "    }\n",
       "</style>\n",
       "<table border=\"1\" class=\"dataframe\">\n",
       "  <thead>\n",
       "    <tr style=\"text-align: right;\">\n",
       "      <th></th>\n",
       "      <th>20171)</th>\n",
       "      <th>2018</th>\n",
       "      <th>2019</th>\n",
       "      <th>2020</th>\n",
       "      <th>2021</th>\n",
       "      <th>20222)</th>\n",
       "      <th>20232), 3)</th>\n",
       "    </tr>\n",
       "  </thead>\n",
       "  <tbody>\n",
       "    <tr>\n",
       "      <th>Всего</th>\n",
       "      <td>39167.0</td>\n",
       "      <td>43724.0</td>\n",
       "      <td>47866.8</td>\n",
       "      <td>51344.0</td>\n",
       "      <td>57243.7</td>\n",
       "      <td>65338.3</td>\n",
       "      <td>73709.3</td>\n",
       "    </tr>\n",
       "    <tr>\n",
       "      <th>сельское, лесное хозяйство, охота, рыболовство и рыбоводство</th>\n",
       "      <td>25671.1</td>\n",
       "      <td>28699.0</td>\n",
       "      <td>31727.6</td>\n",
       "      <td>34770.0</td>\n",
       "      <td>39436.8</td>\n",
       "      <td>46777.0</td>\n",
       "      <td>52868.3</td>\n",
       "    </tr>\n",
       "    <tr>\n",
       "      <th>в том числе:</th>\n",
       "      <td>NaN</td>\n",
       "      <td>NaN</td>\n",
       "      <td>NaN</td>\n",
       "      <td>NaN</td>\n",
       "      <td>NaN</td>\n",
       "      <td>NaN</td>\n",
       "      <td>NaN</td>\n",
       "    </tr>\n",
       "    <tr>\n",
       "      <th>растениеводство и животноводство, охота и предоставление соответствующих услуг в этих областях</th>\n",
       "      <td>23529.1</td>\n",
       "      <td>25820.0</td>\n",
       "      <td>28395.8</td>\n",
       "      <td>31058.0</td>\n",
       "      <td>35460.2</td>\n",
       "      <td>41993.7</td>\n",
       "      <td>47582.9</td>\n",
       "    </tr>\n",
       "    <tr>\n",
       "      <th>лесоводство и лесозаготовки</th>\n",
       "      <td>27616.6</td>\n",
       "      <td>32701.0</td>\n",
       "      <td>35426.2</td>\n",
       "      <td>37855.0</td>\n",
       "      <td>42151.8</td>\n",
       "      <td>48327.2</td>\n",
       "      <td>52416.3</td>\n",
       "    </tr>\n",
       "  </tbody>\n",
       "</table>\n",
       "</div>"
      ],
      "text/plain": [
       "                                                     20171)     2018     2019  \\\n",
       "Всего                                               39167.0  43724.0  47866.8   \n",
       "  сельское, лесное хозяйство, охота, рыболовств...  25671.1  28699.0  31727.6   \n",
       "           в том числе:                                 NaN      NaN      NaN   \n",
       "    растениеводство и животноводство, охота и п...  23529.1  25820.0  28395.8   \n",
       "    лесоводство и лесозаготовки                     27616.6  32701.0  35426.2   \n",
       "\n",
       "                                                       2020     2021   20222)  \\\n",
       "Всего                                               51344.0  57243.7  65338.3   \n",
       "  сельское, лесное хозяйство, охота, рыболовств...  34770.0  39436.8  46777.0   \n",
       "           в том числе:                                 NaN      NaN      NaN   \n",
       "    растениеводство и животноводство, охота и п...  31058.0  35460.2  41993.7   \n",
       "    лесоводство и лесозаготовки                     37855.0  42151.8  48327.2   \n",
       "\n",
       "                                                    20232), 3)  \n",
       "Всего                                                  73709.3  \n",
       "  сельское, лесное хозяйство, охота, рыболовств...     52868.3  \n",
       "           в том числе:                                    NaN  \n",
       "    растениеводство и животноводство, охота и п...     47582.9  \n",
       "    лесоводство и лесозаготовки                        52416.3  "
      ]
     },
     "execution_count": 441,
     "metadata": {},
     "output_type": "execute_result"
    }
   ],
   "source": [
    "salaries0.head(5)"
   ]
  },
  {
   "cell_type": "code",
   "execution_count": 442,
   "id": "25dcfa93",
   "metadata": {},
   "outputs": [
    {
     "data": {
      "text/plain": [
       "Index(['20171)', 2018, 2019, 2020, 2021, '20222)', '20232), 3)'], dtype='object')"
      ]
     },
     "execution_count": 442,
     "metadata": {},
     "output_type": "execute_result"
    }
   ],
   "source": [
    "salaries0.columns"
   ]
  },
  {
   "cell_type": "code",
   "execution_count": 443,
   "id": "def5a697",
   "metadata": {},
   "outputs": [],
   "source": [
    "salaries0.rename(columns={\n",
    "        '20171)': 2017,\n",
    "        '20222)': 2022,\n",
    "        '20232), 3)': 2023}, inplace=True)"
   ]
  },
  {
   "cell_type": "code",
   "execution_count": 444,
   "id": "bbff1a48",
   "metadata": {},
   "outputs": [
    {
     "data": {
      "text/plain": [
       "Int64Index([2000, 2001, 2002, 2003, 2004, 2005, 2006, 2007, 2008, 2009, 2010,\n",
       "            2011, 2012, 2013, 2014, 2015, 2016],\n",
       "           dtype='int64')"
      ]
     },
     "execution_count": 444,
     "metadata": {},
     "output_type": "execute_result"
    }
   ],
   "source": [
    "salaries1.columns"
   ]
  },
  {
   "cell_type": "code",
   "execution_count": 445,
   "id": "3fd4b3d2",
   "metadata": {},
   "outputs": [],
   "source": [
    "salaries1.rename(columns={\n",
    "        'Unnamed: 0': 'Отрасль',\n",
    "        }, inplace=True)"
   ]
  },
  {
   "cell_type": "code",
   "execution_count": 446,
   "id": "7ec99ca1",
   "metadata": {},
   "outputs": [],
   "source": [
    "#удаляем строчки с примечаниями\n",
    "salaries0 = salaries0[:-3]"
   ]
  },
  {
   "cell_type": "markdown",
   "id": "69e7c599",
   "metadata": {},
   "source": [
    "### Отфильтруем нужные строки и объединим фреймы\n",
    "В датафреймах существенно различается разбивка по строкам, поэтому имеет смысл сначала выделить нужные, удалить, дать одинаковые имена и затем конкатенировать."
   ]
  },
  {
   "cell_type": "code",
   "execution_count": 447,
   "id": "158860e4",
   "metadata": {},
   "outputs": [],
   "source": [
    "old = salaries1.loc[[\"  добыча топливно-энергетических  полезных ископаемых\", \"Гостиницы и рестораны\", \"Образование\"]].T"
   ]
  },
  {
   "cell_type": "code",
   "execution_count": 448,
   "id": "ce36b8e1",
   "metadata": {},
   "outputs": [],
   "source": [
    "#зададим общий строковый формат для годов\n",
    "salaries1.columns = [str(a) for a in salaries1.columns]"
   ]
  },
  {
   "cell_type": "code",
   "execution_count": 449,
   "id": "9f68a24b",
   "metadata": {},
   "outputs": [],
   "source": [
    "new = salaries0.loc[[\"     добыча нефти и природного газа\",\n",
    "                     \"     добыча угля\", \n",
    "                     \"деятельность гостиниц и предприятий общественного питания\",\n",
    "                     \"образование\"]].T"
   ]
  },
  {
   "cell_type": "code",
   "execution_count": 450,
   "id": "a88cfd5a",
   "metadata": {},
   "outputs": [],
   "source": [
    "old.columns = ['oilgasandcoal', 'horeca', 'education']\n",
    "new.columns = ['oilgas', 'coal', 'horeca', 'education']"
   ]
  },
  {
   "cell_type": "code",
   "execution_count": 451,
   "id": "6684323f",
   "metadata": {},
   "outputs": [
    {
     "data": {
      "text/html": [
       "<div>\n",
       "<style scoped>\n",
       "    .dataframe tbody tr th:only-of-type {\n",
       "        vertical-align: middle;\n",
       "    }\n",
       "\n",
       "    .dataframe tbody tr th {\n",
       "        vertical-align: top;\n",
       "    }\n",
       "\n",
       "    .dataframe thead th {\n",
       "        text-align: right;\n",
       "    }\n",
       "</style>\n",
       "<table border=\"1\" class=\"dataframe\">\n",
       "  <thead>\n",
       "    <tr style=\"text-align: right;\">\n",
       "      <th></th>\n",
       "      <th>oilgasandcoal</th>\n",
       "      <th>horeca</th>\n",
       "      <th>education</th>\n",
       "    </tr>\n",
       "  </thead>\n",
       "  <tbody>\n",
       "    <tr>\n",
       "      <th>2000</th>\n",
       "      <td>6985.1</td>\n",
       "      <td>1640.0</td>\n",
       "      <td>1240.2</td>\n",
       "    </tr>\n",
       "    <tr>\n",
       "      <th>2001</th>\n",
       "      <td>10905.4</td>\n",
       "      <td>2403.6</td>\n",
       "      <td>1833.0</td>\n",
       "    </tr>\n",
       "    <tr>\n",
       "      <th>2002</th>\n",
       "      <td>13080.3</td>\n",
       "      <td>3039.3</td>\n",
       "      <td>2927.3</td>\n",
       "    </tr>\n",
       "    <tr>\n",
       "      <th>2003</th>\n",
       "      <td>16135.5</td>\n",
       "      <td>3966.7</td>\n",
       "      <td>3386.6</td>\n",
       "    </tr>\n",
       "    <tr>\n",
       "      <th>2004</th>\n",
       "      <td>19903.3</td>\n",
       "      <td>4737.3</td>\n",
       "      <td>4203.4</td>\n",
       "    </tr>\n",
       "  </tbody>\n",
       "</table>\n",
       "</div>"
      ],
      "text/plain": [
       "      oilgasandcoal  horeca  education\n",
       "2000         6985.1  1640.0     1240.2\n",
       "2001        10905.4  2403.6     1833.0\n",
       "2002        13080.3  3039.3     2927.3\n",
       "2003        16135.5  3966.7     3386.6\n",
       "2004        19903.3  4737.3     4203.4"
      ]
     },
     "execution_count": 451,
     "metadata": {},
     "output_type": "execute_result"
    }
   ],
   "source": [
    "old.head(5)"
   ]
  },
  {
   "cell_type": "code",
   "execution_count": 452,
   "id": "7483deda",
   "metadata": {},
   "outputs": [],
   "source": [
    "old = old.apply(pd.to_numeric)"
   ]
  },
  {
   "cell_type": "code",
   "execution_count": 453,
   "id": "4d124b06",
   "metadata": {},
   "outputs": [],
   "source": [
    "new = new.apply(pd.to_numeric)\n",
    "\n",
    "# за неимением данных численности работников в добыче угля и нефтегаза возьмем просто среднюю зп \n",
    "# и будем надеяться, что это недалеко от истины\n",
    "new['oilgasandcoal'] = (new.coal + new.oilgas)/2\n",
    "new.drop(columns=['oilgas', 'coal'], inplace=True)"
   ]
  },
  {
   "cell_type": "code",
   "execution_count": 454,
   "id": "458894fc",
   "metadata": {},
   "outputs": [],
   "source": [
    "salaries = pd.concat([old, new])"
   ]
  },
  {
   "cell_type": "code",
   "execution_count": 455,
   "id": "cd8f0034",
   "metadata": {},
   "outputs": [
    {
     "data": {
      "text/plain": [
       "Int64Index([2000, 2001, 2002, 2003, 2004, 2005, 2006, 2007, 2008, 2009, 2010,\n",
       "            2011, 2012, 2013, 2014, 2015, 2016, 2017, 2018, 2019, 2020, 2021,\n",
       "            2022, 2023],\n",
       "           dtype='int64')"
      ]
     },
     "execution_count": 455,
     "metadata": {},
     "output_type": "execute_result"
    }
   ],
   "source": [
    "salaries.index"
   ]
  },
  {
   "cell_type": "code",
   "execution_count": 456,
   "id": "d52c4685",
   "metadata": {},
   "outputs": [
    {
     "data": {
      "text/plain": [
       "Int64Index([2023, 2022, 2021, 2020, 2019, 2018, 2017, 2016, 2015, 2014, 2013,\n",
       "            2012, 2011, 2010, 2009, 2008, 2007, 2006, 2005, 2004, 2003, 2002,\n",
       "            2001, 2000, 1999, 1998, 1997, 1996, 1995, 1994, 1993, 1992, 1991],\n",
       "           dtype='int64', name='Год')"
      ]
     },
     "execution_count": 456,
     "metadata": {},
     "output_type": "execute_result"
    }
   ],
   "source": [
    "inflation.index"
   ]
  },
  {
   "cell_type": "code",
   "execution_count": 457,
   "id": "40979091",
   "metadata": {},
   "outputs": [],
   "source": [
    "inflation.columns = ['inflation']"
   ]
  },
  {
   "cell_type": "code",
   "execution_count": 458,
   "id": "faabc4f1",
   "metadata": {},
   "outputs": [],
   "source": [
    "salaries_inflation = pd.concat([salaries, inflation], axis=1)"
   ]
  },
  {
   "cell_type": "code",
   "execution_count": 459,
   "id": "a7dc3c12",
   "metadata": {},
   "outputs": [],
   "source": [
    "salaries_inflation.inflation = salaries_inflation.inflation.apply(lambda x: 1+x/100.)"
   ]
  },
  {
   "cell_type": "code",
   "execution_count": 460,
   "id": "da8a1a27",
   "metadata": {},
   "outputs": [
    {
     "data": {
      "text/html": [
       "<div>\n",
       "<style scoped>\n",
       "    .dataframe tbody tr th:only-of-type {\n",
       "        vertical-align: middle;\n",
       "    }\n",
       "\n",
       "    .dataframe tbody tr th {\n",
       "        vertical-align: top;\n",
       "    }\n",
       "\n",
       "    .dataframe thead th {\n",
       "        text-align: right;\n",
       "    }\n",
       "</style>\n",
       "<table border=\"1\" class=\"dataframe\">\n",
       "  <thead>\n",
       "    <tr style=\"text-align: right;\">\n",
       "      <th></th>\n",
       "      <th>oilgasandcoal</th>\n",
       "      <th>horeca</th>\n",
       "      <th>education</th>\n",
       "      <th>inflation</th>\n",
       "    </tr>\n",
       "  </thead>\n",
       "  <tbody>\n",
       "    <tr>\n",
       "      <th>2000</th>\n",
       "      <td>6985.1</td>\n",
       "      <td>1640.0</td>\n",
       "      <td>1240.2</td>\n",
       "      <td>1.2020</td>\n",
       "    </tr>\n",
       "    <tr>\n",
       "      <th>2001</th>\n",
       "      <td>10905.4</td>\n",
       "      <td>2403.6</td>\n",
       "      <td>1833.0</td>\n",
       "      <td>1.1858</td>\n",
       "    </tr>\n",
       "    <tr>\n",
       "      <th>2002</th>\n",
       "      <td>13080.3</td>\n",
       "      <td>3039.3</td>\n",
       "      <td>2927.3</td>\n",
       "      <td>1.1506</td>\n",
       "    </tr>\n",
       "    <tr>\n",
       "      <th>2003</th>\n",
       "      <td>16135.5</td>\n",
       "      <td>3966.7</td>\n",
       "      <td>3386.6</td>\n",
       "      <td>1.1199</td>\n",
       "    </tr>\n",
       "    <tr>\n",
       "      <th>2004</th>\n",
       "      <td>19903.3</td>\n",
       "      <td>4737.3</td>\n",
       "      <td>4203.4</td>\n",
       "      <td>1.1174</td>\n",
       "    </tr>\n",
       "  </tbody>\n",
       "</table>\n",
       "</div>"
      ],
      "text/plain": [
       "      oilgasandcoal  horeca  education  inflation\n",
       "2000         6985.1  1640.0     1240.2     1.2020\n",
       "2001        10905.4  2403.6     1833.0     1.1858\n",
       "2002        13080.3  3039.3     2927.3     1.1506\n",
       "2003        16135.5  3966.7     3386.6     1.1199\n",
       "2004        19903.3  4737.3     4203.4     1.1174"
      ]
     },
     "execution_count": 460,
     "metadata": {},
     "output_type": "execute_result"
    }
   ],
   "source": [
    "salaries_inflation.head(5)"
   ]
  },
  {
   "cell_type": "code",
   "execution_count": 461,
   "id": "68b29a82",
   "metadata": {},
   "outputs": [],
   "source": [
    "# уберем годы, не покрытые данными по зарплатам\n",
    "salaries_inflation = salaries_inflation[salaries_inflation.index > 1999]"
   ]
  },
  {
   "cell_type": "code",
   "execution_count": 462,
   "id": "1014e572",
   "metadata": {},
   "outputs": [],
   "source": [
    "# создадим показатель \"дефлятор\", отражающий накопленную за годы инфляцию, начиная с 2000 года\n",
    "# для этого перемножим показатели каждого года со сдвигом на один год (в 2000 примем индекс за 1.0)\n",
    "\n",
    "# будем методически подходить так: чтобы привести цены, например, 2002 года, к ценам 2000 года, необходимо\n",
    "# исключить накопленное влияние инфляции за весь 2000 год и за весь 2001 год. \n",
    "\n",
    "salaries_inflation['deflator'] = salaries_inflation.inflation.shift(fill_value=1).cumprod()"
   ]
  },
  {
   "cell_type": "code",
   "execution_count": 463,
   "id": "96c3a7ba",
   "metadata": {},
   "outputs": [
    {
     "data": {
      "text/html": [
       "<div>\n",
       "<style scoped>\n",
       "    .dataframe tbody tr th:only-of-type {\n",
       "        vertical-align: middle;\n",
       "    }\n",
       "\n",
       "    .dataframe tbody tr th {\n",
       "        vertical-align: top;\n",
       "    }\n",
       "\n",
       "    .dataframe thead th {\n",
       "        text-align: right;\n",
       "    }\n",
       "</style>\n",
       "<table border=\"1\" class=\"dataframe\">\n",
       "  <thead>\n",
       "    <tr style=\"text-align: right;\">\n",
       "      <th></th>\n",
       "      <th>oilgasandcoal</th>\n",
       "      <th>horeca</th>\n",
       "      <th>education</th>\n",
       "      <th>inflation</th>\n",
       "      <th>deflator</th>\n",
       "    </tr>\n",
       "  </thead>\n",
       "  <tbody>\n",
       "    <tr>\n",
       "      <th>2000</th>\n",
       "      <td>6985.10</td>\n",
       "      <td>1640.0</td>\n",
       "      <td>1240.2</td>\n",
       "      <td>1.2020</td>\n",
       "      <td>1.000000</td>\n",
       "    </tr>\n",
       "    <tr>\n",
       "      <th>2001</th>\n",
       "      <td>10905.40</td>\n",
       "      <td>2403.6</td>\n",
       "      <td>1833.0</td>\n",
       "      <td>1.1858</td>\n",
       "      <td>1.202000</td>\n",
       "    </tr>\n",
       "    <tr>\n",
       "      <th>2002</th>\n",
       "      <td>13080.30</td>\n",
       "      <td>3039.3</td>\n",
       "      <td>2927.3</td>\n",
       "      <td>1.1506</td>\n",
       "      <td>1.425332</td>\n",
       "    </tr>\n",
       "    <tr>\n",
       "      <th>2003</th>\n",
       "      <td>16135.50</td>\n",
       "      <td>3966.7</td>\n",
       "      <td>3386.6</td>\n",
       "      <td>1.1199</td>\n",
       "      <td>1.639987</td>\n",
       "    </tr>\n",
       "    <tr>\n",
       "      <th>2004</th>\n",
       "      <td>19903.30</td>\n",
       "      <td>4737.3</td>\n",
       "      <td>4203.4</td>\n",
       "      <td>1.1174</td>\n",
       "      <td>1.836621</td>\n",
       "    </tr>\n",
       "    <tr>\n",
       "      <th>2005</th>\n",
       "      <td>23455.90</td>\n",
       "      <td>6033.4</td>\n",
       "      <td>5429.7</td>\n",
       "      <td>1.1091</td>\n",
       "      <td>2.052240</td>\n",
       "    </tr>\n",
       "    <tr>\n",
       "      <th>2006</th>\n",
       "      <td>27614.50</td>\n",
       "      <td>7521.7</td>\n",
       "      <td>6983.3</td>\n",
       "      <td>1.0900</td>\n",
       "      <td>2.276140</td>\n",
       "    </tr>\n",
       "    <tr>\n",
       "      <th>2007</th>\n",
       "      <td>33275.50</td>\n",
       "      <td>9339.0</td>\n",
       "      <td>8778.3</td>\n",
       "      <td>1.1187</td>\n",
       "      <td>2.480992</td>\n",
       "    </tr>\n",
       "    <tr>\n",
       "      <th>2008</th>\n",
       "      <td>39051.30</td>\n",
       "      <td>11536.2</td>\n",
       "      <td>11316.8</td>\n",
       "      <td>1.1328</td>\n",
       "      <td>2.775486</td>\n",
       "    </tr>\n",
       "    <tr>\n",
       "      <th>2009</th>\n",
       "      <td>41568.30</td>\n",
       "      <td>12469.6</td>\n",
       "      <td>13293.6</td>\n",
       "      <td>1.0880</td>\n",
       "      <td>3.144071</td>\n",
       "    </tr>\n",
       "    <tr>\n",
       "      <th>2010</th>\n",
       "      <td>46271.20</td>\n",
       "      <td>13465.8</td>\n",
       "      <td>14075.2</td>\n",
       "      <td>1.0878</td>\n",
       "      <td>3.420749</td>\n",
       "    </tr>\n",
       "    <tr>\n",
       "      <th>2011</th>\n",
       "      <td>51587.90</td>\n",
       "      <td>14692.5</td>\n",
       "      <td>15809.1</td>\n",
       "      <td>1.0610</td>\n",
       "      <td>3.721090</td>\n",
       "    </tr>\n",
       "    <tr>\n",
       "      <th>2012</th>\n",
       "      <td>57209.70</td>\n",
       "      <td>16631.1</td>\n",
       "      <td>18995.3</td>\n",
       "      <td>1.0658</td>\n",
       "      <td>3.948077</td>\n",
       "    </tr>\n",
       "    <tr>\n",
       "      <th>2013</th>\n",
       "      <td>61084.10</td>\n",
       "      <td>18304.4</td>\n",
       "      <td>23457.9</td>\n",
       "      <td>1.0645</td>\n",
       "      <td>4.207860</td>\n",
       "    </tr>\n",
       "    <tr>\n",
       "      <th>2014</th>\n",
       "      <td>66780.00</td>\n",
       "      <td>19759.0</td>\n",
       "      <td>25862.0</td>\n",
       "      <td>1.1136</td>\n",
       "      <td>4.479267</td>\n",
       "    </tr>\n",
       "    <tr>\n",
       "      <th>2015</th>\n",
       "      <td>71418.00</td>\n",
       "      <td>20626.0</td>\n",
       "      <td>26928.0</td>\n",
       "      <td>1.1291</td>\n",
       "      <td>4.988112</td>\n",
       "    </tr>\n",
       "    <tr>\n",
       "      <th>2016</th>\n",
       "      <td>77586.00</td>\n",
       "      <td>22041.0</td>\n",
       "      <td>28088.0</td>\n",
       "      <td>1.0538</td>\n",
       "      <td>5.632077</td>\n",
       "    </tr>\n",
       "    <tr>\n",
       "      <th>2017</th>\n",
       "      <td>78571.65</td>\n",
       "      <td>23970.5</td>\n",
       "      <td>30257.6</td>\n",
       "      <td>1.0252</td>\n",
       "      <td>5.935083</td>\n",
       "    </tr>\n",
       "    <tr>\n",
       "      <th>2018</th>\n",
       "      <td>93605.00</td>\n",
       "      <td>26241.0</td>\n",
       "      <td>34361.0</td>\n",
       "      <td>1.0427</td>\n",
       "      <td>6.084647</td>\n",
       "    </tr>\n",
       "    <tr>\n",
       "      <th>2019</th>\n",
       "      <td>99358.25</td>\n",
       "      <td>28191.4</td>\n",
       "      <td>37071.9</td>\n",
       "      <td>1.0305</td>\n",
       "      <td>6.344462</td>\n",
       "    </tr>\n",
       "    <tr>\n",
       "      <th>2020</th>\n",
       "      <td>102387.50</td>\n",
       "      <td>27411.0</td>\n",
       "      <td>39563.0</td>\n",
       "      <td>1.0491</td>\n",
       "      <td>6.537968</td>\n",
       "    </tr>\n",
       "    <tr>\n",
       "      <th>2021</th>\n",
       "      <td>111580.85</td>\n",
       "      <td>33224.7</td>\n",
       "      <td>43390.5</td>\n",
       "      <td>1.0839</td>\n",
       "      <td>6.858982</td>\n",
       "    </tr>\n",
       "    <tr>\n",
       "      <th>2022</th>\n",
       "      <td>128170.15</td>\n",
       "      <td>37571.7</td>\n",
       "      <td>48400.2</td>\n",
       "      <td>1.1192</td>\n",
       "      <td>7.434451</td>\n",
       "    </tr>\n",
       "    <tr>\n",
       "      <th>2023</th>\n",
       "      <td>143308.65</td>\n",
       "      <td>43191.8</td>\n",
       "      <td>54262.7</td>\n",
       "      <td>1.0742</td>\n",
       "      <td>8.320637</td>\n",
       "    </tr>\n",
       "  </tbody>\n",
       "</table>\n",
       "</div>"
      ],
      "text/plain": [
       "      oilgasandcoal   horeca  education  inflation  deflator\n",
       "2000        6985.10   1640.0     1240.2     1.2020  1.000000\n",
       "2001       10905.40   2403.6     1833.0     1.1858  1.202000\n",
       "2002       13080.30   3039.3     2927.3     1.1506  1.425332\n",
       "2003       16135.50   3966.7     3386.6     1.1199  1.639987\n",
       "2004       19903.30   4737.3     4203.4     1.1174  1.836621\n",
       "2005       23455.90   6033.4     5429.7     1.1091  2.052240\n",
       "2006       27614.50   7521.7     6983.3     1.0900  2.276140\n",
       "2007       33275.50   9339.0     8778.3     1.1187  2.480992\n",
       "2008       39051.30  11536.2    11316.8     1.1328  2.775486\n",
       "2009       41568.30  12469.6    13293.6     1.0880  3.144071\n",
       "2010       46271.20  13465.8    14075.2     1.0878  3.420749\n",
       "2011       51587.90  14692.5    15809.1     1.0610  3.721090\n",
       "2012       57209.70  16631.1    18995.3     1.0658  3.948077\n",
       "2013       61084.10  18304.4    23457.9     1.0645  4.207860\n",
       "2014       66780.00  19759.0    25862.0     1.1136  4.479267\n",
       "2015       71418.00  20626.0    26928.0     1.1291  4.988112\n",
       "2016       77586.00  22041.0    28088.0     1.0538  5.632077\n",
       "2017       78571.65  23970.5    30257.6     1.0252  5.935083\n",
       "2018       93605.00  26241.0    34361.0     1.0427  6.084647\n",
       "2019       99358.25  28191.4    37071.9     1.0305  6.344462\n",
       "2020      102387.50  27411.0    39563.0     1.0491  6.537968\n",
       "2021      111580.85  33224.7    43390.5     1.0839  6.858982\n",
       "2022      128170.15  37571.7    48400.2     1.1192  7.434451\n",
       "2023      143308.65  43191.8    54262.7     1.0742  8.320637"
      ]
     },
     "execution_count": 463,
     "metadata": {},
     "output_type": "execute_result"
    }
   ],
   "source": [
    "salaries_inflation"
   ]
  },
  {
   "cell_type": "code",
   "execution_count": 465,
   "id": "e32d72c6",
   "metadata": {
    "scrolled": true
   },
   "outputs": [
    {
     "data": {
      "text/plain": [
       "26.33646341463415"
      ]
     },
     "execution_count": 465,
     "metadata": {},
     "output_type": "execute_result"
    }
   ],
   "source": [
    "salaries_inflation.horeca.iloc[-1]/ salaries_inflation.horeca.iloc[0]"
   ]
  },
  {
   "cell_type": "code",
   "execution_count": 466,
   "id": "aa1dddf9",
   "metadata": {},
   "outputs": [
    {
     "data": {
      "text/plain": [
       "20.51633476972413"
      ]
     },
     "execution_count": 466,
     "metadata": {},
     "output_type": "execute_result"
    }
   ],
   "source": [
    "salaries_inflation.oilgasandcoal.iloc[-1]/ salaries_inflation.oilgasandcoal.iloc[0]\n"
   ]
  },
  {
   "cell_type": "markdown",
   "id": "80655b77",
   "metadata": {},
   "source": [
    "## Данные о курсе валют и цене нефти необходимо агрегировать"
   ]
  },
  {
   "cell_type": "code",
   "execution_count": 467,
   "id": "c93593dd",
   "metadata": {},
   "outputs": [],
   "source": [
    "usdrub['Дата'] = pd.to_datetime(usdrub['Дата'])\n",
    "brent['Дата'] = pd.to_datetime(brent['Дата'])"
   ]
  },
  {
   "cell_type": "code",
   "execution_count": 469,
   "id": "2cd54954",
   "metadata": {
    "scrolled": true
   },
   "outputs": [],
   "source": [
    "#Получим среднегодовые значения \n",
    "usdrub['USDRUB_year_avg'] = usdrub.groupby(usdrub['Дата'].dt.year)['Значение'].transform('mean')\n",
    "usdrub_year = usdrub.groupby(usdrub['Дата'].dt.year)['USDRUB_year_avg'].mean()"
   ]
  },
  {
   "cell_type": "code",
   "execution_count": 470,
   "id": "e1bb7c95",
   "metadata": {},
   "outputs": [
    {
     "data": {
      "text/plain": [
       "Дата\n",
       "2000    28.128094\n",
       "2001    29.172416\n",
       "2002    31.359621\n",
       "2003    30.676448\n",
       "2004    28.808298\n",
       "Name: USDRUB_year_avg, dtype: float64"
      ]
     },
     "execution_count": 470,
     "metadata": {},
     "output_type": "execute_result"
    }
   ],
   "source": [
    "usdrub_year.head(5)"
   ]
  },
  {
   "cell_type": "code",
   "execution_count": 471,
   "id": "04dfe517",
   "metadata": {},
   "outputs": [],
   "source": [
    "brent['BRENT_year_avg'] = brent.groupby(brent['Дата'].dt.year)['Значение'].transform('mean')\n",
    "brent_year = brent.groupby(brent['Дата'].dt.year)['BRENT_year_avg'].mean()"
   ]
  },
  {
   "cell_type": "code",
   "execution_count": 472,
   "id": "695f56f7",
   "metadata": {},
   "outputs": [
    {
     "data": {
      "text/plain": [
       "Дата\n",
       "2000    29.088718\n",
       "2001    24.849617\n",
       "2002    25.066935\n",
       "2003    28.445709\n",
       "2004    37.972977\n",
       "Name: BRENT_year_avg, dtype: float64"
      ]
     },
     "execution_count": 472,
     "metadata": {},
     "output_type": "execute_result"
    }
   ],
   "source": [
    "brent_year.head(5)"
   ]
  },
  {
   "cell_type": "code",
   "execution_count": 473,
   "id": "af40570f",
   "metadata": {},
   "outputs": [],
   "source": [
    "all_data = pd.concat([salaries_inflation, brent_year, usdrub_year], axis=1)"
   ]
  },
  {
   "cell_type": "code",
   "execution_count": 474,
   "id": "48aca509",
   "metadata": {},
   "outputs": [
    {
     "data": {
      "text/html": [
       "<div>\n",
       "<style scoped>\n",
       "    .dataframe tbody tr th:only-of-type {\n",
       "        vertical-align: middle;\n",
       "    }\n",
       "\n",
       "    .dataframe tbody tr th {\n",
       "        vertical-align: top;\n",
       "    }\n",
       "\n",
       "    .dataframe thead th {\n",
       "        text-align: right;\n",
       "    }\n",
       "</style>\n",
       "<table border=\"1\" class=\"dataframe\">\n",
       "  <thead>\n",
       "    <tr style=\"text-align: right;\">\n",
       "      <th></th>\n",
       "      <th>oilgasandcoal</th>\n",
       "      <th>horeca</th>\n",
       "      <th>education</th>\n",
       "      <th>inflation</th>\n",
       "      <th>deflator</th>\n",
       "      <th>BRENT_year_avg</th>\n",
       "      <th>USDRUB_year_avg</th>\n",
       "    </tr>\n",
       "  </thead>\n",
       "  <tbody>\n",
       "    <tr>\n",
       "      <th>2000</th>\n",
       "      <td>6985.1</td>\n",
       "      <td>1640.0</td>\n",
       "      <td>1240.2</td>\n",
       "      <td>1.2020</td>\n",
       "      <td>1.000000</td>\n",
       "      <td>29.088718</td>\n",
       "      <td>28.128094</td>\n",
       "    </tr>\n",
       "    <tr>\n",
       "      <th>2001</th>\n",
       "      <td>10905.4</td>\n",
       "      <td>2403.6</td>\n",
       "      <td>1833.0</td>\n",
       "      <td>1.1858</td>\n",
       "      <td>1.202000</td>\n",
       "      <td>24.849617</td>\n",
       "      <td>29.172416</td>\n",
       "    </tr>\n",
       "    <tr>\n",
       "      <th>2002</th>\n",
       "      <td>13080.3</td>\n",
       "      <td>3039.3</td>\n",
       "      <td>2927.3</td>\n",
       "      <td>1.1506</td>\n",
       "      <td>1.425332</td>\n",
       "      <td>25.066935</td>\n",
       "      <td>31.359621</td>\n",
       "    </tr>\n",
       "    <tr>\n",
       "      <th>2003</th>\n",
       "      <td>16135.5</td>\n",
       "      <td>3966.7</td>\n",
       "      <td>3386.6</td>\n",
       "      <td>1.1199</td>\n",
       "      <td>1.639987</td>\n",
       "      <td>28.445709</td>\n",
       "      <td>30.676448</td>\n",
       "    </tr>\n",
       "    <tr>\n",
       "      <th>2004</th>\n",
       "      <td>19903.3</td>\n",
       "      <td>4737.3</td>\n",
       "      <td>4203.4</td>\n",
       "      <td>1.1174</td>\n",
       "      <td>1.836621</td>\n",
       "      <td>37.972977</td>\n",
       "      <td>28.808298</td>\n",
       "    </tr>\n",
       "  </tbody>\n",
       "</table>\n",
       "</div>"
      ],
      "text/plain": [
       "      oilgasandcoal  horeca  education  inflation  deflator  BRENT_year_avg  \\\n",
       "2000         6985.1  1640.0     1240.2     1.2020  1.000000       29.088718   \n",
       "2001        10905.4  2403.6     1833.0     1.1858  1.202000       24.849617   \n",
       "2002        13080.3  3039.3     2927.3     1.1506  1.425332       25.066935   \n",
       "2003        16135.5  3966.7     3386.6     1.1199  1.639987       28.445709   \n",
       "2004        19903.3  4737.3     4203.4     1.1174  1.836621       37.972977   \n",
       "\n",
       "      USDRUB_year_avg  \n",
       "2000        28.128094  \n",
       "2001        29.172416  \n",
       "2002        31.359621  \n",
       "2003        30.676448  \n",
       "2004        28.808298  "
      ]
     },
     "execution_count": 474,
     "metadata": {},
     "output_type": "execute_result"
    }
   ],
   "source": [
    "all_data.head()"
   ]
  },
  {
   "cell_type": "markdown",
   "id": "fc982175",
   "metadata": {},
   "source": [
    "### Визуализируем собранные данные"
   ]
  },
  {
   "cell_type": "code",
   "execution_count": 476,
   "id": "6fe84c62",
   "metadata": {
    "scrolled": false
   },
   "outputs": [
    {
     "data": {
      "image/png": "[encoded data removed]",
      "text/plain": [
       "<Figure size 640x480 with 1 Axes>"
      ]
     },
     "metadata": {},
     "output_type": "display_data"
    }
   ],
   "source": [
    "all_data[['oilgasandcoal','horeca','education']].plot();"
   ]
  },
  {
   "cell_type": "markdown",
   "id": "209ff44a",
   "metadata": {},
   "source": [
    "Из графиков видно, что во всех выбранных отраслях средний размер оплаты растет на протяжении всего периода наблюдений. Однако данные графики недостаточно информативны, т.к. показывают зарплаты в номинальном выражении. Попробуем привести все зарплаты к ценам 2000 года, поделив на соответствующий дефлятор."
   ]
  },
  {
   "cell_type": "code",
   "execution_count": 368,
   "id": "1bffe4e9",
   "metadata": {},
   "outputs": [],
   "source": [
    "for col in ['oilgasandcoal','horeca','education']:\n",
    "    all_data[col+\"_corr\"] = all_data[col] / all_data['deflator']"
   ]
  },
  {
   "cell_type": "markdown",
   "id": "87941096",
   "metadata": {},
   "source": [
    "Выведем на график зарплаты, скорректированные на инфляцию, т.наз. реальные зарплаты. \n",
    "Из графика виден рост реальных доходов, характерный для всех рассматриваемых отраслей. Обращает на себя внимание, что реальные доходы в образовании после 2008 года стали обгонять доходы в индустрии гостеприимства и общепита."
   ]
  },
  {
   "cell_type": "code",
   "execution_count": 376,
   "id": "67786317",
   "metadata": {},
   "outputs": [
    {
     "data": {
      "image/png": "[encoded data removed]",
      "text/plain": [
       "<Figure size 640x480 with 1 Axes>"
      ]
     },
     "metadata": {},
     "output_type": "display_data"
    }
   ],
   "source": [
    "all_data[['oilgasandcoal_corr','horeca_corr','education_corr']].plot();"
   ]
  },
  {
   "cell_type": "code",
   "execution_count": 372,
   "id": "f9a3c675",
   "metadata": {},
   "outputs": [],
   "source": [
    "all_data['nrg_edu_ratio'] = all_data['oilgasandcoal'] / all_data['education']\n",
    "all_data['horeca_edu_ratio'] = all_data['horeca'] / all_data['education']\n",
    "all_data['nrg_horeca_ratio'] = all_data['oilgasandcoal'] / all_data['horeca']"
   ]
  },
  {
   "cell_type": "code",
   "execution_count": 375,
   "id": "1d13612a",
   "metadata": {
    "scrolled": false
   },
   "outputs": [
    {
     "data": {
      "image/png": "[encoded data removed]",
      "text/plain": [
       "<Figure size 640x480 with 1 Axes>"
      ]
     },
     "metadata": {},
     "output_type": "display_data"
    }
   ],
   "source": [
    "all_data[['nrg_edu_ratio', 'horeca_edu_ratio', 'nrg_horeca_ratio']].plot();"
   ]
  },
  {
   "cell_type": "markdown",
   "id": "2a6c9577",
   "metadata": {},
   "source": [
    "Рассмотрим эти соотношения немного подробнее. В начале века заработная плата в области добычи энергетических полезных ископаемых превосходила зарплаты в образовании в 6 раз. К 2023 году соотношение снизилось до 3 и менее. Соотношение зарплат в хореке и образовании близко к единице, но в начале века оно превышало 1.0, сейчас - ниже 1.0. "
   ]
  },
  {
   "cell_type": "code",
   "execution_count": 379,
   "id": "1b5f03d3",
   "metadata": {},
   "outputs": [],
   "source": [
    "all_data['oilgasandcoal_usd'] = all_data['oilgasandcoal'] / all_data['USDRUB_year_avg']\n",
    "all_data['horeca_usd'] = all_data['horeca'] / all_data['USDRUB_year_avg']\n",
    "all_data['education_usd'] = all_data['education'] / all_data['USDRUB_year_avg']"
   ]
  },
  {
   "cell_type": "code",
   "execution_count": 410,
   "id": "f81eaf82",
   "metadata": {},
   "outputs": [
    {
     "data": {
      "image/png": "[encoded data removed]",
      "text/plain": [
       "<Figure size 640x480 with 2 Axes>"
      ]
     },
     "metadata": {},
     "output_type": "display_data"
    }
   ],
   "source": [
    "fig, ax1 = plt.subplots()\n",
    "\n",
    "color = 'tab:red'\n",
    "ax1.set_xlabel('year')\n",
    "ax1.set_ylabel('BRENT price', color=color)\n",
    "ax1.set_ylim(0,200)\n",
    "ax1.bar(all_data.index, all_data.BRENT_year_avg, color=color)\n",
    "ax1.tick_params(axis='y', labelcolor=color)\n",
    "\n",
    "ax2 = ax1.twinx()  # instantiate a second axes that shares the same x-axis\n",
    "\n",
    "color = 'tab:blue'\n",
    "ax2.set_ylabel('energy resources extraction - salaries', color=color)  # we already handled the x-label with ax1\n",
    "ax2.plot(all_data.index, all_data.oilgasandcoal_corr, color=color)\n",
    "ax2.tick_params(axis='y', labelcolor=color)\n",
    "\n",
    "fig.tight_layout()  # otherwise the right y-label is slightly clipped\n",
    "plt.show()"
   ]
  },
  {
   "cell_type": "markdown",
   "id": "d2d6b419",
   "metadata": {},
   "source": [
    "Интересно посмотреть на то, как рост зарплат в энергетическом секторе коррелирует с ценой на нефть. Период с 2003 по 2014 год отметился самым быстрым ростом зарплат и наиболее высокими ценами на нефть. "
   ]
  },
  {
   "cell_type": "code",
   "execution_count": 435,
   "id": "4d4d6d5a",
   "metadata": {},
   "outputs": [
    {
     "data": {
      "image/png": "[encoded data removed]",
      "text/plain": [
       "<Figure size 640x480 with 1 Axes>"
      ]
     },
     "metadata": {},
     "output_type": "display_data"
    }
   ],
   "source": [
    "all_data[['oilgasandcoal_usd', 'horeca_usd', 'education_usd']].plot();"
   ]
  },
  {
   "cell_type": "markdown",
   "id": "fbbd1909",
   "metadata": {},
   "source": [
    "Наконец, интересно исследовать зарплаты, выраженные в более стабильной валюте, в данном случае основной мировой резервной валюте - доллларе США. Из графика очевидно, что рост реальных доходов, выраженный в валюте, прекратился после 2014 года. Такое сравнение доходов актуально в отношении покупки импортных товаров, зарубежных туристических поездок. Период с 2000 по 2014 год характеризовался крайне быстрым ростом доходов в долларовом выражении, при этом даже глубокий финансовый кризис 2008 года на этом процессе отразился не так сильно. "
   ]
  },
  {
   "cell_type": "code",
   "execution_count": 477,
   "id": "b2d87d33",
   "metadata": {},
   "outputs": [
    {
     "data": {
      "image/png": "[encoded data removed]",
      "text/plain": [
       "<Figure size 640x480 with 2 Axes>"
      ]
     },
     "metadata": {},
     "output_type": "display_data"
    }
   ],
   "source": [
    "fig, ax1 = plt.subplots()\n",
    "\n",
    "color = 'tab:red'\n",
    "ax1.set_xlabel('year')\n",
    "ax1.set_ylabel('USD RUB rate', color=color)\n",
    "ax1.set_ylim(0,150)\n",
    "ax1.bar(all_data.index, all_data.USDRUB_year_avg, color=color)\n",
    "ax1.tick_params(axis='y', labelcolor=color)\n",
    "\n",
    "ax2 = ax1.twinx()  # instantiate a second axes that shares the same x-axis\n",
    "\n",
    "color = 'tab:blue'\n",
    "ax2.set_ylabel('Brent price', color=color)  # we already handled the x-label with ax1\n",
    "ax2.plot(all_data.index, all_data.BRENT_year_avg, color=color)\n",
    "ax2.tick_params(axis='y', labelcolor=color)\n",
    "\n",
    "fig.tight_layout()  # otherwise the right y-label is slightly clipped\n",
    "plt.show()"
   ]
  },
  {
   "cell_type": "code",
   "execution_count": null,
   "id": "06bce54f",
   "metadata": {},
   "outputs": [],
   "source": []
  }
 ],
 "metadata": {
  "kernelspec": {
   "display_name": "Python 3 (ipykernel)",
   "language": "python",
   "name": "python3"
  },
  "language_info": {
   "codemirror_mode": {
    "name": "ipython",
    "version": 3
   },
   "file_extension": ".py",
   "mimetype": "text/x-python",
   "name": "python",
   "nbconvert_exporter": "python",
   "pygments_lexer": "ipython3",
   "version": "3.9.13"
  }
 },
 "nbformat": 4,
 "nbformat_minor": 5
}
